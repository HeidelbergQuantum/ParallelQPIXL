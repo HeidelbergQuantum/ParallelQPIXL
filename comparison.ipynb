{
 "cells": [
  {
   "cell_type": "code",
   "execution_count": 1,
   "metadata": {},
   "outputs": [],
   "source": [
    "from QPIXL_qiskit.helper import *\n",
    "from QPIXL_qiskit.qpixl_parallel import *\n",
    "from qiskit.visualization import *\n",
    "from qiskit_aer import StatevectorSimulator\n",
    "import qiskit \n",
    "import numpy as np\n"
   ]
  },
  {
   "cell_type": "code",
   "execution_count": 2,
   "metadata": {},
   "outputs": [],
   "source": [
    "from PIL import Image\n",
    "import matplotlib.pyplot as plt\n",
    "\n",
    "def timing(fun,x):\n",
    "    foo =  %timeit -n 1 -r 5 -o fun (x)\n",
    "    return foo\n"
   ]
  },
  {
   "cell_type": "code",
   "execution_count": 3,
   "metadata": {},
   "outputs": [],
   "source": [
    "datas = []\n",
    "for i in range(10):\n",
    "    img = Image.open(f'figures/0{i}.jpg')\n",
    "    img = img.convert('L')\n",
    "    img = np.array(img.resize((32,32), Image.Resampling.LANCZOS))\n",
    "    datas.append(img)"
   ]
  },
  {
   "cell_type": "code",
   "execution_count": 24,
   "metadata": {},
   "outputs": [
    {
     "name": "stdout",
     "output_type": "stream",
     "text": [
      "146 ms ± 14.7 ms per loop (mean ± std. dev. of 5 runs, 1 loop each)\n",
      "190 ms ± 29.3 ms per loop (mean ± std. dev. of 5 runs, 1 loop each)\n",
      "362 ms ± 59.8 ms per loop (mean ± std. dev. of 5 runs, 1 loop each)\n",
      "690 ms ± 131 ms per loop (mean ± std. dev. of 5 runs, 1 loop each)\n",
      "716 ms ± 228 ms per loop (mean ± std. dev. of 5 runs, 1 loop each)\n",
      "The slowest run took 25.85 times longer than the fastest. This could mean that an intermediate result is being cached.\n",
      "3.49 s ± 5.54 s per loop (mean ± std. dev. of 5 runs, 1 loop each)\n",
      "The slowest run took 5.10 times longer than the fastest. This could mean that an intermediate result is being cached.\n",
      "1.66 s ± 1.17 s per loop (mean ± std. dev. of 5 runs, 1 loop each)\n",
      "1.92 s ± 340 ms per loop (mean ± std. dev. of 5 runs, 1 loop each)\n",
      "3.59 s ± 732 ms per loop (mean ± std. dev. of 5 runs, 1 loop each)\n",
      "The slowest run took 4.94 times longer than the fastest. This could mean that an intermediate result is being cached.\n",
      "11.2 s ± 5.82 s per loop (mean ± std. dev. of 5 runs, 1 loop each)\n"
     ]
    },
    {
     "data": {
      "text/plain": [
       "[0.14577143606729806,\n",
       " 0.18977510100230574,\n",
       " 0.3622487920336425,\n",
       " 0.6900202533695847,\n",
       " 0.7164735754020513,\n",
       " 3.4860484146513047,\n",
       " 1.6646287783514708,\n",
       " 1.9181360151618718,\n",
       " 3.5936100111342966,\n",
       " 11.24890049980022]"
      ]
     },
     "execution_count": 24,
     "metadata": {},
     "output_type": "execute_result"
    }
   ],
   "source": [
    "backend = StatevectorSimulator(method=\"statevector\")\n",
    "def qiskitSV(imgs):\n",
    "    qc = cFRQI(imgs,0)\n",
    "    job = backend.run(qc)\n",
    "times_SV = []\n",
    "for i in range(10):\n",
    "    if i == 0:\n",
    "        times_SV.append(timing(qiskitSV,[datas[0]]).average)\n",
    "    else:\n",
    "        times_SV.append(timing(qiskitSV,datas[0:i+1]).average)\n",
    "times_SV"
   ]
  },
  {
   "cell_type": "code",
   "execution_count": 25,
   "metadata": {},
   "outputs": [
    {
     "name": "stdout",
     "output_type": "stream",
     "text": [
      "The slowest run took 6.43 times longer than the fastest. This could mean that an intermediate result is being cached.\n",
      "131 ms ± 105 ms per loop (mean ± std. dev. of 5 runs, 1 loop each)\n",
      "160 ms ± 15.4 ms per loop (mean ± std. dev. of 5 runs, 1 loop each)\n",
      "243 ms ± 17.1 ms per loop (mean ± std. dev. of 5 runs, 1 loop each)\n",
      "325 ms ± 16.4 ms per loop (mean ± std. dev. of 5 runs, 1 loop each)\n",
      "428 ms ± 45.1 ms per loop (mean ± std. dev. of 5 runs, 1 loop each)\n",
      "508 ms ± 16.2 ms per loop (mean ± std. dev. of 5 runs, 1 loop each)\n",
      "571 ms ± 17.6 ms per loop (mean ± std. dev. of 5 runs, 1 loop each)\n",
      "662 ms ± 17.3 ms per loop (mean ± std. dev. of 5 runs, 1 loop each)\n",
      "768 ms ± 30.3 ms per loop (mean ± std. dev. of 5 runs, 1 loop each)\n",
      "911 ms ± 56.4 ms per loop (mean ± std. dev. of 5 runs, 1 loop each)\n"
     ]
    },
    {
     "data": {
      "text/plain": [
       "[0.13144086878746747,\n",
       " 0.16024912539869546,\n",
       " 0.24325067964382469,\n",
       " 0.32509657577611506,\n",
       " 0.42840386857278645,\n",
       " 0.5077826207969338,\n",
       " 0.5713453786447644,\n",
       " 0.6616535493638367,\n",
       " 0.76805939078331,\n",
       " 0.9106043060310185]"
      ]
     },
     "execution_count": 25,
     "metadata": {},
     "output_type": "execute_result"
    }
   ],
   "source": [
    "backend = StatevectorSimulator(method=\"statevector_gpu\")\n",
    "times_SVGPU = []\n",
    "for i in range(10):\n",
    "    if i == 0:\n",
    "        times_SVGPU.append(timing(qiskitSV,[datas[0]]).average)\n",
    "    else:\n",
    "        times_SVGPU.append(timing(qiskitSV,datas[0:i+1]).average)\n",
    "times_SVGPU"
   ]
  },
  {
   "cell_type": "code",
   "execution_count": 22,
   "metadata": {},
   "outputs": [],
   "source": [
    "import QPIXL_pennylane.qpixl_parallel as QP\n",
    "import pennylane as qml\n",
    "dev = qml.device(\"default.qubit\",20)\n",
    "\n",
    "qml.qnode(dev)\n",
    "def circuit(stuff):\n",
    "    QP.cFRQI(stuff,0)\n",
    "    return qml.state()\n",
    "\n",
    "results = circuit(datas[0:10])"
   ]
  },
  {
   "cell_type": "code",
   "execution_count": 23,
   "metadata": {},
   "outputs": [
    {
     "data": {
      "text/plain": [
       "state(wires=[])"
      ]
     },
     "execution_count": 23,
     "metadata": {},
     "output_type": "execute_result"
    }
   ],
   "source": [
    "results"
   ]
  },
  {
   "cell_type": "code",
   "execution_count": null,
   "metadata": {},
   "outputs": [],
   "source": []
  }
 ],
 "metadata": {
  "kernelspec": {
   "display_name": "Python 3 (ipykernel)",
   "language": "python",
   "name": "python3"
  },
  "language_info": {
   "codemirror_mode": {
    "name": "ipython",
    "version": 3
   },
   "file_extension": ".py",
   "mimetype": "text/x-python",
   "name": "python",
   "nbconvert_exporter": "python",
   "pygments_lexer": "ipython3",
   "version": "3.10.12"
  }
 },
 "nbformat": 4,
 "nbformat_minor": 4
}
